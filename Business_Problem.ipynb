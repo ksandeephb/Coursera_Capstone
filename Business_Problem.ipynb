{
 "cells": [
  {
   "cell_type": "markdown",
   "metadata": {},
   "source": [
    "# Business problem \n"
   ]
  },
  {
   "cell_type": "markdown",
   "metadata": {},
   "source": [
    "## 1.1 Background\n",
    "#### Delhi  India’s capital city , is a massive metropolitan area in the country’s north. Delhi has a lot of places to visit and explore including some historical monuments ,religious places etc.\n"
   ]
  },
  {
   "cell_type": "markdown",
   "metadata": {},
   "source": [
    "## 1.2 Problem\n",
    "#### If anyone is coming to delhi for the first time and wants to know which area in the delhi people visit the most apart from  historical monuments ,religious places etc etc.\n",
    "#### To determine this I am going to see the concentration of cafes . The cluster of cafes would most probably be the place where most people will be visiting.\n",
    "#### If there are suppose 10 cafes in 500 meter meaning a lot of people coming to that place.\n"
   ]
  },
  {
   "cell_type": "code",
   "execution_count": null,
   "metadata": {},
   "outputs": [],
   "source": []
  }
 ],
 "metadata": {
  "kernelspec": {
   "display_name": "Python 3",
   "language": "python",
   "name": "python3"
  },
  "language_info": {
   "codemirror_mode": {
    "name": "ipython",
    "version": 3
   },
   "file_extension": ".py",
   "mimetype": "text/x-python",
   "name": "python",
   "nbconvert_exporter": "python",
   "pygments_lexer": "ipython3",
   "version": "3.7.4"
  }
 },
 "nbformat": 4,
 "nbformat_minor": 4
}
